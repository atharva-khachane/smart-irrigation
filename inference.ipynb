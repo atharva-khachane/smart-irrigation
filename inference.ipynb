{
 "cells": [
  {
   "cell_type": "code",
   "execution_count": null,
   "id": "996999c4",
   "metadata": {},
   "outputs": [],
   "source": [
    "import pandas as pd\n",
    "import matplotlib.pyplot as plt\n",
    "from sklearn.linear_model import LinearRegression\n",
    "import numpy as np\n",
    "\n",
    "# Load the dataset\n",
    "df = pd.read_csv('Smart_irrigation_Train.csv', parse_dates=['date'], dayfirst=True)\n",
    "\n",
    "# Set date as index for easier plotting\n",
    "df.set_index('date', inplace=True)\n",
    "\n",
    "# Calculate rolling means (7-day window, adjust as needed)\n",
    "df['Soil Moisture Resistance (Ohm)_trend'] = df['Soil Moisture Resistance (Ohm)'].rolling(window=96, min_periods=1).mean()\n",
    "df['Ambient Temperature (deg. C)_trend'] = df['Ambient Temperature (deg. C)'].rolling(window=96, min_periods=1).mean()\n",
    "df['Atmospheric Humidity (%)_trend'] = df['Atmospheric Humidity (%)'].rolling(window=96, min_periods=1).mean()\n",
    "df['DC Water pump Status_trend'] = df['DC Water pump Status'].rolling(window=96, min_periods=1).mean()\n",
    "\n",
    "# Plot the trends\n",
    "fig, axs = plt.subplots(2, 2, figsize=(16, 10))\n",
    "df['Soil Moisture Resistance (Ohm)_trend'].plot(ax=axs[0,0], color='blue', title='Soil Moisture Resistance Trend')\n",
    "df['Ambient Temperature (deg. C)_trend'].plot(ax=axs[0,1], color='red', title='Ambient Temperature Trend')\n",
    "df['Atmospheric Humidity (%)_trend'].plot(ax=axs[1,0], color='green', title='Atmospheric Humidity Trend')\n",
    "df['DC Water pump Status_trend'].plot(ax=axs[1,1], color='purple', title='Pump Status Trend')\n",
    "plt.tight_layout()\n",
    "plt.savefig(\"inference.png\")\n",
    "plt.show()\n",
    "\n"
   ]
  },
  {
   "cell_type": "code",
   "execution_count": null,
   "id": "4e822de7",
   "metadata": {},
   "outputs": [],
   "source": []
  }
 ],
 "metadata": {
  "kernelspec": {
   "display_name": "Python 3",
   "language": "python",
   "name": "python3"
  },
  "language_info": {
   "codemirror_mode": {
    "name": "ipython",
    "version": 3
   },
   "file_extension": ".py",
   "mimetype": "text/x-python",
   "name": "python",
   "nbconvert_exporter": "python",
   "pygments_lexer": "ipython3",
   "version": "3.9.21"
  }
 },
 "nbformat": 4,
 "nbformat_minor": 5
}
